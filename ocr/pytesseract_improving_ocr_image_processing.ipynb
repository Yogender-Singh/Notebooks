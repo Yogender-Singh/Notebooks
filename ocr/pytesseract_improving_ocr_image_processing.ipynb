{
  "nbformat": 4,
  "nbformat_minor": 0,
  "metadata": {
    "colab": {
      "provenance": [],
      "include_colab_link": true
    },
    "kernelspec": {
      "display_name": "Python 3",
      "language": "python",
      "name": "python3"
    },
    "language_info": {
      "codemirror_mode": {
        "name": "ipython",
        "version": 3
      },
      "file_extension": ".py",
      "mimetype": "text/x-python",
      "name": "python",
      "nbconvert_exporter": "python",
      "pygments_lexer": "ipython3",
      "version": "3.8.5"
    }
  },
  "cells": [
    {
      "cell_type": "markdown",
      "metadata": {
        "id": "view-in-github",
        "colab_type": "text"
      },
      "source": [
        "<a href=\"https://colab.research.google.com/github/Yogender-Singh/Notebooks/blob/main/ocr/pytesseract_improving_ocr_image_processing.ipynb\" target=\"_parent\"><img src=\"https://colab.research.google.com/assets/colab-badge.svg\" alt=\"Open In Colab\"/></a>"
      ]
    },
    {
      "cell_type": "markdown",
      "metadata": {
        "id": "1GE36A_vkMEO"
      },
      "source": [
        "### Installing Tesseract dependencies"
      ]
    },
    {
      "cell_type": "code",
      "metadata": {
        "id": "Swr0XWFyj-m_"
      },
      "source": [
        "%%bash\n",
        "sudo apt-get install -y libicu-dev libpango1.0-dev libcairo2-dev\n",
        "sudo apt-get install -y automake ca-certificates g++ git libtool libleptonica-dev make pkg-config\n",
        "sudo apt-get install -y libpng-dev libjpeg8-dev libtiff5-dev zlib1g-dev"
      ],
      "execution_count": null,
      "outputs": []
    },
    {
      "cell_type": "markdown",
      "metadata": {
        "id": "H2SOCbMykNWF"
      },
      "source": [
        "### Compiling and Installing Tesseract `v4.1.1` from source"
      ]
    },
    {
      "cell_type": "code",
      "metadata": {
        "id": "RIhArh48j_nB"
      },
      "source": [
        "%%bash\n",
        "wget -O tesseract.zip https://github.com/tesseract-ocr/tesseract/archive/4.1.1.zip\n",
        "unzip tesseract.zip\n",
        "mv tesseract-4.1.1 tesseract\n",
        "cd tesseract\n",
        "./autogen.sh\n",
        "./configure\n",
        "make\n",
        "sudo make install\n",
        "sudo ldconfig\n",
        "pip install pytesseract"
      ],
      "execution_count": null,
      "outputs": []
    },
    {
      "cell_type": "code",
      "metadata": {
        "id": "2fq85IokkChk"
      },
      "source": [
        "%%bash\n",
        "cd /usr/local/share/tessdata/\n",
        "sudo wget https://github.com/tesseract-ocr/tessdata_fast/raw/master/eng.traineddata\n",
        "sudo wget https://github.com/tesseract-ocr/tessdata_fast/raw/master/osd.traineddata\n",
        "cd ~"
      ],
      "execution_count": null,
      "outputs": []
    },
    {
      "cell_type": "markdown",
      "metadata": {
        "id": "NFhAzQB3aNMa"
      },
      "source": [
        "### Download the code zip file"
      ]
    },
    {
      "cell_type": "code",
      "metadata": {
        "id": "7y0LG1EuaRlB"
      },
      "source": [
        "!wget qq https://github.com/Yogender-Singh/Notebooks/raw/main/images/ocr-image-processing.zip\n",
        "!unzip -qq ocr-image-processing.zip"
      ],
      "execution_count": null,
      "outputs": []
    },
    {
      "cell_type": "markdown",
      "metadata": {
        "id": "wcrOk6pURp50"
      },
      "source": [
        "### Import Packages"
      ]
    },
    {
      "cell_type": "code",
      "metadata": {
        "id": "VJaCNlDDRz6d"
      },
      "source": [
        "# import the necessary packages\n",
        "from matplotlib import pyplot as plt\n",
        "import numpy as np\n",
        "import pytesseract\n",
        "import argparse\n",
        "import imutils\n",
        "import cv2"
      ],
      "execution_count": null,
      "outputs": []
    },
    {
      "cell_type": "markdown",
      "metadata": {
        "id": "lBrLwCtN5kqy"
      },
      "source": [
        "### Function to display images in Jupyter Notebooks and Google Colab"
      ]
    },
    {
      "cell_type": "code",
      "metadata": {
        "id": "fRw969Dp5Kdm"
      },
      "source": [
        "def plt_imshow(title, image):\n",
        "\t# convert the image frame BGR to RGB color space and display it\n",
        "\timage = cv2.cvtColor(image, cv2.COLOR_BGR2RGB)\n",
        "\tplt.imshow(image)\n",
        "\tplt.title(title)\n",
        "\tplt.grid(False)\n",
        "\tplt.show()"
      ],
      "execution_count": null,
      "outputs": []
    },
    {
      "cell_type": "markdown",
      "metadata": {
        "id": "Jppw5-Bd56H-"
      },
      "source": [
        "### Implementing an Image Processing Pipeline for OCR"
      ]
    },
    {
      "cell_type": "code",
      "metadata": {
        "id": "okM7Bpyeq8Kc"
      },
      "source": [
        "# construct the argument parser and parse the arguments\n",
        "#ap = argparse.ArgumentParser()\n",
        "#ap.add_argument(\"-i\", \"--image\", required=True,\n",
        "#\thelp=\"path to input image to be OCR'd\")\n",
        "#args = vars(ap.parse_args())\n",
        "\n",
        "\n",
        "# since we are using Jupyter Notebooks we can replace our argument\n",
        "# parsing code with *hard coded* arguments and values\n",
        "args = {\n",
        "\t\"image\": \"challenging_example.png\"\n",
        "}"
      ],
      "execution_count": null,
      "outputs": []
    },
    {
      "cell_type": "code",
      "metadata": {
        "id": "yK9cEcG8oM0Z"
      },
      "source": [
        "# load the input image and convert it to grayscale\n",
        "image = cv2.imread(args[\"image\"])\n",
        "gray = cv2.cvtColor(image, cv2.COLOR_BGR2GRAY)\n",
        "\n",
        "# threshold the image using Otsu's thresholding method\n",
        "thresh = cv2.threshold(gray, 0, 255,\n",
        "\tcv2.THRESH_BINARY_INV | cv2.THRESH_OTSU)[1]\n",
        "plt_imshow(\"Otsu\", thresh)"
      ],
      "execution_count": null,
      "outputs": []
    },
    {
      "cell_type": "code",
      "metadata": {
        "id": "39cIBBDYoPkE"
      },
      "source": [
        "# apply a distance transform which calculates the distance to the\n",
        "# closest zero pixel for each pixel in the input image\n",
        "dist = cv2.distanceTransform(thresh, cv2.DIST_L2, 5)\n",
        "\n",
        "# normalize the distance transform such that the distances lie in\n",
        "# the range [0, 1] and then convert the distance transform back to\n",
        "# an unsigned 8-bit integer in the range [0, 255]\n",
        "dist = cv2.normalize(dist, dist, 0, 1.0, cv2.NORM_MINMAX)\n",
        "dist = (dist * 255).astype(\"uint8\")\n",
        "plt_imshow(\"Dist\", dist)\n",
        "\n",
        "# threshold the distance transform using Otsu's method\n",
        "dist = cv2.threshold(dist, 0, 255,\n",
        "\tcv2.THRESH_BINARY | cv2.THRESH_OTSU)[1]\n",
        "plt_imshow(\"Dist Otsu\", dist)"
      ],
      "execution_count": null,
      "outputs": []
    },
    {
      "cell_type": "code",
      "metadata": {
        "id": "r4mJ3vFJoSOW"
      },
      "source": [
        "# apply an \"opening\" morphological operation to disconnect components\n",
        "# in the image\n",
        "kernel = cv2.getStructuringElement(cv2.MORPH_ELLIPSE, (7, 7))\n",
        "opening = cv2.morphologyEx(dist, cv2.MORPH_OPEN, kernel)\n",
        "plt_imshow(\"Opening\", opening)"
      ],
      "execution_count": null,
      "outputs": []
    },
    {
      "cell_type": "code",
      "metadata": {
        "id": "e8sqx-fYoU15"
      },
      "source": [
        "# find contours in the opening image, then initialize the list of\n",
        "# contours which belong to actual characters that we will be OCR'ing\n",
        "cnts = cv2.findContours(opening.copy(), cv2.RETR_EXTERNAL,\n",
        "\tcv2.CHAIN_APPROX_SIMPLE)\n",
        "cnts = imutils.grab_contours(cnts)\n",
        "chars = []\n",
        "\n",
        "# loop over the contours\n",
        "for c in cnts:\n",
        "\t# compute the bounding box of the contour\n",
        "\t(x, y, w, h) = cv2.boundingRect(c)\n",
        "\n",
        "\t# check if contour is at least 35px wide and 100px tall, and if\n",
        "\t# so, consider the contour a digit\n",
        "\tif w >= 35 and h >= 100:\n",
        "\t\tchars.append(c)"
      ],
      "execution_count": null,
      "outputs": []
    },
    {
      "cell_type": "code",
      "metadata": {
        "id": "D-vruiSSoW3l"
      },
      "source": [
        "# compute the convex hull of the characters\n",
        "chars = np.vstack([chars[i] for i in range(0, len(chars))])\n",
        "hull = cv2.convexHull(chars)\n",
        "\n",
        "# allocate memory for the convex hull mask, draw the convex hull on\n",
        "# the image, and then enlarge it via a dilation\n",
        "mask = np.zeros(image.shape[:2], dtype=\"uint8\")\n",
        "cv2.drawContours(mask, [hull], -1, 255, -1)\n",
        "mask = cv2.dilate(mask, None, iterations=2)\n",
        "plt_imshow(\"Mask\", mask)\n",
        "\n",
        "# take the bitwise of the opening image and the mask to reveal *just*\n",
        "# the characters in the image\n",
        "final = cv2.bitwise_and(opening, opening, mask=mask)"
      ],
      "execution_count": null,
      "outputs": []
    },
    {
      "cell_type": "code",
      "metadata": {
        "id": "KmyrT2YhoZIh"
      },
      "source": [
        "# OCR the input image using Tesseract\n",
        "options = \"--psm 8 -c tessedit_char_whitelist=0123456789\"\n",
        "text = pytesseract.image_to_string(final, config=options)\n",
        "print(text)\n",
        "\n",
        "# show the final output image\n",
        "plt_imshow(\"Final\", final)"
      ],
      "execution_count": null,
      "outputs": []
    }
  ]
}