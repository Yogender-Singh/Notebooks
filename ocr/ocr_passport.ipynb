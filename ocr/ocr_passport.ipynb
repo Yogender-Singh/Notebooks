{
  "nbformat": 4,
  "nbformat_minor": 0,
  "metadata": {
    "colab": {
      "provenance": [],
      "include_colab_link": true
    },
    "kernelspec": {
      "display_name": "Python 3",
      "language": "python",
      "name": "python3"
    },
    "language_info": {
      "codemirror_mode": {
        "name": "ipython",
        "version": 3
      },
      "file_extension": ".py",
      "mimetype": "text/x-python",
      "name": "python",
      "nbconvert_exporter": "python",
      "pygments_lexer": "ipython3",
      "version": "3.8.5"
    }
  },
  "cells": [
    {
      "cell_type": "markdown",
      "metadata": {
        "id": "view-in-github",
        "colab_type": "text"
      },
      "source": [
        "<a href=\"https://colab.research.google.com/github/Yogender-Singh/Notebooks/blob/main/ocr/ocr_passport.ipynb\" target=\"_parent\"><img src=\"https://colab.research.google.com/assets/colab-badge.svg\" alt=\"Open In Colab\"/></a>"
      ]
    },
    {
      "cell_type": "markdown",
      "metadata": {
        "id": "1GE36A_vkMEO"
      },
      "source": [
        "### Installing Tesseract"
      ]
    },
    {
      "cell_type": "code",
      "metadata": {
        "id": "Swr0XWFyj-m_"
      },
      "source": [
        "%%bash\n",
        "add-apt-repository -y ppa:alex-p/tesseract-ocr-devel\n",
        "apt-get update\n",
        "apt-get install tesseract-ocr\n",
        "pip install pytesseract"
      ],
      "execution_count": null,
      "outputs": []
    },
    {
      "cell_type": "markdown",
      "metadata": {
        "id": "NFhAzQB3aNMa"
      },
      "source": [
        "### Download the code zip file"
      ]
    },
    {
      "cell_type": "code",
      "metadata": {
        "id": "7y0LG1EuaRlB"
      },
      "source": [
        "!wget qq https://github.com/Yogender-Singh/Notebooks/raw/main/images/pytesseract_passport.zip\n",
        "!unzip -qq pytesseract_passport.zip"
      ],
      "execution_count": null,
      "outputs": []
    },
    {
      "cell_type": "markdown",
      "metadata": {
        "id": "2RFYLbqReFI-"
      },
      "source": [
        "### Import Packages"
      ]
    },
    {
      "cell_type": "code",
      "metadata": {
        "id": "PSx7mR9FeEfD"
      },
      "source": [
        "from imutils.contours import sort_contours\n",
        "import matplotlib.pyplot as plt\n",
        "import numpy as np\n",
        "import pytesseract\n",
        "import imutils\n",
        "import sys\n",
        "import cv2"
      ],
      "execution_count": null,
      "outputs": []
    },
    {
      "cell_type": "markdown",
      "metadata": {
        "id": "lBrLwCtN5kqy"
      },
      "source": [
        "### Function to display images in Jupyter Notebooks and Google Colab"
      ]
    },
    {
      "cell_type": "code",
      "metadata": {
        "id": "fRw969Dp5Kdm"
      },
      "source": [
        "def plt_imshow(title, image):\n",
        "    # convert the image frame BGR to RGB color space and display it\n",
        "    image = cv2.cvtColor(image, cv2.COLOR_BGR2RGB)\n",
        "    plt.imshow(image)\n",
        "    plt.title(title)\n",
        "    plt.grid(False)\n",
        "    plt.show()"
      ],
      "execution_count": null,
      "outputs": []
    },
    {
      "cell_type": "code",
      "metadata": {
        "id": "gpKdEjM0hW15"
      },
      "source": [
        "# construct the argument parser and parse the arguments\n",
        "# ap = argparse.ArgumentParser()\n",
        "# ap.add_argument(\"-i\", \"--image\", required=True,\n",
        "# \thelp=\"path to input image to be OCR'd\")\n",
        "# args = vars(ap.parse_args())\n",
        "\n",
        "# since we are using Jupyter Notebooks we can replace our argument\n",
        "# parsing code with *hard coded* arguments and values\n",
        "args = {\n",
        "\t\"image\": \"passports/passport_02.png\",\n",
        "}"
      ],
      "execution_count": null,
      "outputs": []
    },
    {
      "cell_type": "markdown",
      "metadata": {
        "id": "M9ZTWk-VjZlP"
      },
      "source": [
        "### Locating MRZs in Passport Images"
      ]
    },
    {
      "cell_type": "code",
      "metadata": {
        "id": "UMlLnKGGh_qx"
      },
      "source": [
        "# load the input image, convert it to grayscale, and grab its\n",
        "# dimensions\n",
        "image = cv2.imread(args[\"image\"])\n",
        "gray = cv2.cvtColor(image, cv2.COLOR_BGR2GRAY)\n",
        "(H, W) = gray.shape\n",
        "\n",
        "# initialize a rectangular and square structuring kernel\n",
        "rectKernel = cv2.getStructuringElement(cv2.MORPH_RECT, (25, 7))\n",
        "sqKernel = cv2.getStructuringElement(cv2.MORPH_RECT, (21, 21))\n",
        "\n",
        "# smooth the image using a 3x3 Gaussian blur and then apply a\n",
        "# blackhat morpholigical operator to find dark regions on a light\n",
        "# background\n",
        "gray = cv2.GaussianBlur(gray, (3, 3), 0)\n",
        "blackhat = cv2.morphologyEx(gray, cv2.MORPH_BLACKHAT, rectKernel)\n",
        "plt_imshow(\"Blackhat\", blackhat)"
      ],
      "execution_count": null,
      "outputs": []
    },
    {
      "cell_type": "code",
      "metadata": {
        "id": "qY9V5JQSiEJc"
      },
      "source": [
        "# compute the Scharr gradient of the blackhat image and scale the\n",
        "# result into the range [0, 255]\n",
        "grad = cv2.Sobel(blackhat, ddepth=cv2.CV_32F, dx=1, dy=0, ksize=-1)\n",
        "grad = np.absolute(grad)\n",
        "(minVal, maxVal) = (np.min(grad), np.max(grad))\n",
        "grad = (grad - minVal) / (maxVal - minVal)\n",
        "grad = (grad * 255).astype(\"uint8\")\n",
        "plt_imshow(\"Gradient\", grad)"
      ],
      "execution_count": null,
      "outputs": []
    },
    {
      "cell_type": "code",
      "metadata": {
        "id": "wIz_DAoEiH3F"
      },
      "source": [
        "# apply a closing operation using the rectangular kernel to close\n",
        "# gaps in between letters -- then apply Otsu's thresholding method\n",
        "grad = cv2.morphologyEx(grad, cv2.MORPH_CLOSE, rectKernel)\n",
        "thresh = cv2.threshold(grad, 0, 255,\n",
        "\tcv2.THRESH_BINARY | cv2.THRESH_OTSU)[1]\n",
        "plt_imshow(\"Rect Close\", thresh)\n",
        "\n",
        "# perform another closing operation, this time using the square\n",
        "# kernel to close gaps between lines of the MRZ, then perform a\n",
        "# series of erosions to break apart connected components\n",
        "thresh = cv2.morphologyEx(thresh, cv2.MORPH_CLOSE, sqKernel)\n",
        "thresh = cv2.erode(thresh, None, iterations=2)\n",
        "plt_imshow(\"Square Close\", thresh)"
      ],
      "execution_count": null,
      "outputs": []
    },
    {
      "cell_type": "code",
      "metadata": {
        "id": "qtR6O6bJiK8x"
      },
      "source": [
        "# find contours in the thresholded image and sort them from bottom\n",
        "# to top (since the MRZ will always be at the bottom of the passport)\n",
        "cnts = cv2.findContours(thresh.copy(), cv2.RETR_EXTERNAL,\n",
        "\tcv2.CHAIN_APPROX_SIMPLE)\n",
        "cnts = imutils.grab_contours(cnts)\n",
        "cnts = sort_contours(cnts, method=\"bottom-to-top\")[0]\n",
        "\n",
        "# initialize the bounding box associated with the MRZ\n",
        "mrzBox = None"
      ],
      "execution_count": null,
      "outputs": []
    },
    {
      "cell_type": "code",
      "metadata": {
        "id": "Yl4BwFmmiQJg"
      },
      "source": [
        "# loop over the contours\n",
        "for c in cnts:\n",
        "\t# compute the bounding box of the contour and then derive the\n",
        "\t# how much of the image the bounding box occupies in terms of\n",
        "\t# both width and height\n",
        "\t(x, y, w, h) = cv2.boundingRect(c)\n",
        "\tpercentWidth = w / float(W)\n",
        "\tpercentHeight = h / float(H)\n",
        "\n",
        "\t# if the bounding box occupies > 80% width and > 4% height of the\n",
        "\t# image, then assume we have found the MRZ\n",
        "\tif percentWidth > 0.8 and percentHeight > 0.04:\n",
        "\t\tmrzBox = (x, y, w, h)\n",
        "\t\tbreak"
      ],
      "execution_count": null,
      "outputs": []
    },
    {
      "cell_type": "code",
      "metadata": {
        "id": "SD9-GCUIiTLv"
      },
      "source": [
        "# if the MRZ was not found, exit the script\n",
        "if mrzBox is None:\n",
        "\tprint(\"[INFO] MRZ could not be found\")\n",
        "\tsys.exit(0)\n",
        "\n",
        "# pad the bounding box since we applied erosions and now need to\n",
        "# re-grow it\n",
        "(x, y, w, h) = mrzBox\n",
        "pX = int((x + w) * 0.03)\n",
        "pY = int((y + h) * 0.03)\n",
        "(x, y) = (x - pX, y - pY)\n",
        "(w, h) = (w + (pX * 2), h + (pY * 2))\n",
        "\n",
        "# extract the padded MRZ from the image\n",
        "mrz = image[y:y + h, x:x + w]"
      ],
      "execution_count": null,
      "outputs": []
    },
    {
      "cell_type": "code",
      "metadata": {
        "id": "xDK5ToB_hBp-"
      },
      "source": [
        "# OCR the MRZ region of interest using Tesseract, removing any\n",
        "# occurrences of spaces\n",
        "mrzText = pytesseract.image_to_string(mrz)\n",
        "mrzText = mrzText.replace(\" \", \"\")\n",
        "print(mrzText)\n",
        "\n",
        "# show the MRZ image\n",
        "plt_imshow(\"MRZ\", mrz)"
      ],
      "execution_count": null,
      "outputs": []
    }
  ]
}