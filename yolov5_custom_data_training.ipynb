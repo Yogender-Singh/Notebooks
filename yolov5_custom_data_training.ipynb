{
  "nbformat": 4,
  "nbformat_minor": 0,
  "metadata": {
    "colab": {
      "provenance": [],
      "include_colab_link": true
    },
    "kernelspec": {
      "name": "python3",
      "display_name": "Python 3"
    },
    "language_info": {
      "name": "python"
    }
  },
  "cells": [
    {
      "cell_type": "markdown",
      "metadata": {
        "id": "view-in-github",
        "colab_type": "text"
      },
      "source": [
        "<a href=\"https://colab.research.google.com/github/Yogender-Singh/Notebooks/blob/main/yolov5_custom_data_training.ipynb\" target=\"_parent\"><img src=\"https://colab.research.google.com/assets/colab-badge.svg\" alt=\"Open In Colab\"/></a>"
      ]
    },
    {
      "cell_type": "markdown",
      "source": [
        "### Clone YOLOv5 Repository and Install Requirements"
      ],
      "metadata": {
        "id": "sE6V6RF6IK6u"
      }
    },
    {
      "cell_type": "code",
      "source": [
        "!git clone https://github.com/ultralytics/yolov5.git\n",
        "%cd yolov5/\n",
        "!pip install -r requirements.txt -qq"
      ],
      "metadata": {
        "id": "yT_3QvkCIL7r"
      },
      "execution_count": null,
      "outputs": []
    },
    {
      "cell_type": "markdown",
      "source": [
        "### Download Dataset"
      ],
      "metadata": {
        "id": "rZNYJQrqkmpX"
      }
    },
    {
      "cell_type": "code",
      "source": [
        "%cd ..\n",
        "!mkdir vehicles_open_image\n",
        "%cd vehicles_open_image\n",
        "!curl -L -s \"https://public.roboflow.com/ds/2Tb6yXY8l8?key=Eg82WpxUEr\" > vehicles.zip\n",
        "!unzip -q vehicles.zip\n",
        "!rm vehicles.zip"
      ],
      "metadata": {
        "id": "6RxzzcsQrTKb"
      },
      "execution_count": null,
      "outputs": []
    },
    {
      "cell_type": "markdown",
      "source": [
        "## Blog Post Code"
      ],
      "metadata": {
        "id": "ES2obNFpI-fF"
      }
    },
    {
      "cell_type": "markdown",
      "source": [
        "### Import Packages"
      ],
      "metadata": {
        "id": "jULgnsrPI_6f"
      }
    },
    {
      "cell_type": "code",
      "source": [
        "import yaml\n",
        "import os\n",
        "import glob\n",
        "from IPython.display import Image, display"
      ],
      "metadata": {
        "id": "RDev3jGRJEDW"
      },
      "execution_count": null,
      "outputs": []
    },
    {
      "cell_type": "markdown",
      "source": [
        "### Create Data Configuration"
      ],
      "metadata": {
        "id": "AQd_TzR7ku6_"
      }
    },
    {
      "cell_type": "code",
      "source": [
        "config = {\n",
        "    \"path\": \"/content/vehicles_open_image\",\n",
        "    \"train\": \"/content/vehicles_open_image/train\",\n",
        "    \"val\": \"/content/vehicles_open_image/valid\",\n",
        "    \"nc\": 5,\n",
        "    \"names\": [\"Ambulance\", \"Bus\", \"Car\", \"Motorcycle\", \"Truck\"]\n",
        "}\n",
        "\n",
        "with open(\"data.yaml\", \"w\") as file:\n",
        "    yaml.dump(config, file, default_flow_style=False)\n",
        "\n",
        "%cd /content/yolov5"
      ],
      "metadata": {
        "id": "m97mGELNBaWX"
      },
      "execution_count": null,
      "outputs": []
    },
    {
      "cell_type": "markdown",
      "source": [
        "### Define Hyperparameters for the Model"
      ],
      "metadata": {
        "id": "QIl-JwyFl40t"
      }
    },
    {
      "cell_type": "code",
      "source": [
        "SIZE = 640\n",
        "BATCH_SIZE = 32\n",
        "EPOCHS = 20\n",
        "MODEL = \"yolov5s\"\n",
        "WORKERS = 1\n",
        "PROJECT = \"parking_lot\"\n",
        "RUN_NAME = f\"{MODEL}_size{SIZE}_epochs{EPOCHS}_batch{BATCH_SIZE}_small\""
      ],
      "metadata": {
        "id": "hhUtcvDgyXLM"
      },
      "execution_count": null,
      "outputs": []
    },
    {
      "cell_type": "markdown",
      "source": [
        "### Training with all layers"
      ],
      "metadata": {
        "id": "x2Ic54Rsr9o8"
      }
    },
    {
      "cell_type": "code",
      "source": [
        "!python train.py --img {SIZE}\\\n",
        "                --batch {BATCH_SIZE}\\\n",
        "                --epochs {EPOCHS}\\\n",
        "                --data ../vehicles_open_image/data.yaml\\\n",
        "                --weights {MODEL}.pt\\\n",
        "                --workers {WORKERS}\\\n",
        "                --project {PROJECT}\\\n",
        "                --name {RUN_NAME}\\"
      ],
      "metadata": {
        "id": "ZpQKRuwcr2Y0"
      },
      "execution_count": null,
      "outputs": []
    },
    {
      "cell_type": "markdown",
      "source": [
        "### Detector Sample Training Data and Performance Metrics"
      ],
      "metadata": {
        "id": "xjSEWHo-mBaL"
      }
    },
    {
      "cell_type": "code",
      "source": [
        "runs_directory = \"parking_lot/yolov5s_size640_epochs20_batch32_small\"\n",
        "\n",
        "display(\n",
        "    Image(\n",
        "        filename=f\"{runs_directory}/train_batch0.jpg\"\n",
        "    )\n",
        ")"
      ],
      "metadata": {
        "id": "y5rdf_2wmUpj"
      },
      "execution_count": null,
      "outputs": []
    },
    {
      "cell_type": "code",
      "source": [
        "display(\n",
        "    Image(\n",
        "        filename=f\"{runs_directory}/results.png\"\n",
        "    )\n",
        ")"
      ],
      "metadata": {
        "id": "UKaxXX00ucDN"
      },
      "execution_count": null,
      "outputs": []
    },
    {
      "cell_type": "code",
      "source": [
        "display(\n",
        "    Image(\n",
        "        filename=f\"{runs_directory}/val_batch2_labels.jpg\"\n",
        "    )\n",
        ")\n",
        "print(\"\\n\")\n",
        "display(\n",
        "    Image(\n",
        "        filename=f\"{runs_directory}/val_batch2_pred.jpg\"\n",
        "    )\n",
        ")"
      ],
      "metadata": {
        "id": "3K_obqZLulP9"
      },
      "execution_count": null,
      "outputs": []
    },
    {
      "cell_type": "markdown",
      "source": [
        "### Run Inference  With Trained Weights\n",
        "\n",
        "Run inference with a pretrained pytorch checkpoint on contents of `test/images` folder inside the `vehicles_open_image` dataset."
      ],
      "metadata": {
        "id": "8HyNR4bNnn-s"
      }
    },
    {
      "cell_type": "code",
      "source": [
        "!python detect.py --weights {runs_directory}/weights/best.pt\\\n",
        "                  --source ../vehicles_open_image/test/images\\\n",
        "                  --conf 0.1\\\n",
        "                  --data ../vehicles_open_image/data.yaml\\\n",
        "                  --project {PROJECT}/{RUN_NAME}\\\n",
        "                  --name test_data_detections"
      ],
      "metadata": {
        "id": "wM1HzXbhnpKk"
      },
      "execution_count": null,
      "outputs": []
    },
    {
      "cell_type": "code",
      "source": [
        "#display inference on few test images\n",
        "for imageName in glob.glob(runs_directory+'/test_data_detections/*.jpg')[60:65]:\n",
        "    display(Image(filename=imageName))\n",
        "    print(\"\\n\")"
      ],
      "metadata": {
        "id": "ZL6miynentHs"
      },
      "execution_count": null,
      "outputs": []
    },
    {
      "cell_type": "markdown",
      "source": [
        "### Fine-tuning with 10 layers freezed"
      ],
      "metadata": {
        "id": "OT60fA-jrxwy"
      }
    },
    {
      "cell_type": "code",
      "source": [
        "!python train.py --img {SIZE}\\\n",
        "                --batch {BATCH_SIZE}\\\n",
        "                --epochs {EPOCHS}\\\n",
        "                --data ../vehicles_open_image/data.yaml\\\n",
        "                --weights {MODEL}.pt\\\n",
        "                --workers {WORKERS}\\\n",
        "                --project {PROJECT}\\\n",
        "                --name freeze_layers\\\n",
        "                --freeze 0 1 2 3 4 5 6 7 8 9 10 "
      ],
      "metadata": {
        "id": "xbi_pbthy1tN"
      },
      "execution_count": null,
      "outputs": []
    },
    {
      "cell_type": "markdown",
      "source": [
        "### Performance Metric of Freeze Model"
      ],
      "metadata": {
        "id": "ob0QD4ETnC0G"
      }
    },
    {
      "cell_type": "code",
      "source": [
        "runs_directory = \"parking_lot/freeze_layers\"\n",
        "\n",
        "display(\n",
        "    Image(\n",
        "        filename=f\"{runs_directory}/train_batch0.jpg\"\n",
        "    )\n",
        ")"
      ],
      "metadata": {
        "id": "Zzw0F5MPnFp4"
      },
      "execution_count": null,
      "outputs": []
    },
    {
      "cell_type": "code",
      "source": [
        "display(\n",
        "    Image(\n",
        "        filename=f\"{runs_directory}/results.png\"\n",
        "    )\n",
        ")"
      ],
      "metadata": {
        "id": "aB1vOf2oy4Xu"
      },
      "execution_count": null,
      "outputs": []
    },
    {
      "cell_type": "code",
      "source": [
        "display(\n",
        "    Image(\n",
        "        filename=f\"{runs_directory}/val_batch2_labels.jpg\"\n",
        "    )\n",
        ")\n",
        "print('\\n')\n",
        "display(\n",
        "    Image(\n",
        "        filename=f\"{runs_directory}/val_batch2_pred.jpg\"\n",
        "    )\n",
        ")"
      ],
      "metadata": {
        "id": "O0u9GTj1y89-"
      },
      "execution_count": null,
      "outputs": []
    },
    {
      "cell_type": "markdown",
      "source": [
        "### Run Inference  With Trained Weights\n",
        "\n",
        "Run inference with a pretrained pytorch checkpoint on contents of `test/images` folder inside the `vehicles_open_image` dataset."
      ],
      "metadata": {
        "id": "crk2QGo-nJgk"
      }
    },
    {
      "cell_type": "code",
      "source": [
        "!python detect.py --weights {runs_directory}/weights/best.pt\\\n",
        "                  --source ../vehicles_open_image/test/images\\\n",
        "                  --conf 0.1\\\n",
        "                  --data ../vehicles_open_image/data.yaml\\\n",
        "                  --project {runs_directory}\\\n",
        "                  --name test_data_detections"
      ],
      "metadata": {
        "id": "X2H5kfeOnIoS"
      },
      "execution_count": null,
      "outputs": []
    },
    {
      "cell_type": "code",
      "source": [
        "#display inference on few test images\n",
        "for imageName in glob.glob(f\"{runs_directory}//test_data_detections/*.jpg\")[60:65]: \n",
        "    display(Image(filename=imageName))\n",
        "    print(\"\\n\")"
      ],
      "metadata": {
        "id": "y6CSXXZbzHbF"
      },
      "execution_count": null,
      "outputs": []
    }
  ]
}